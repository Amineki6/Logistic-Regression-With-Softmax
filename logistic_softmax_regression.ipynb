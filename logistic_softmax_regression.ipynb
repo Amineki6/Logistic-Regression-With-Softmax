{
 "cells": [
  {
   "cell_type": "code",
   "execution_count": 1,
   "metadata": {},
   "outputs": [],
   "source": [
    "import numpy as np\n",
    "import pandas as pd\n",
    "import matplotlib.pyplot as plt"
   ]
  },
  {
   "cell_type": "code",
   "execution_count": 2,
   "metadata": {},
   "outputs": [],
   "source": [
    "# Function to prepare data for modeling\n",
    "def get_data():\n",
    "    df = pd.read_csv(\"ecommerce_data.csv\")\n",
    "    data = df.to_numpy()\n",
    "    np.random.shuffle(data)\n",
    "\n",
    "    X = data[:,:-1]\n",
    "    Y = data[:,-1].astype(np.int32)\n",
    "\n",
    "    N,D = X.shape\n",
    "    X2 = np.zeros((N,D+3))\n",
    "    X2[:,:D-1] = X[:,:D-1]\n",
    "\n",
    "    for n in range(N):\n",
    "        t = int(X[n , D-1])\n",
    "        X2[n , t + D - 1] = 1\n",
    "        \n",
    "    X = X2\n",
    "    Xtrain = X[:-100]\n",
    "    Ytrain = Y[:-100]\n",
    "\n",
    "    Xtest = X[-100:]\n",
    "    Ytest = Y[-100:]\n",
    "\n",
    "    for i in (1,2):\n",
    "        m = Xtrain[: , i].mean()\n",
    "        s = Xtrain[: , i].std()\n",
    "        Xtrain[: , i] = (Xtrain[: , i] - m)/s\n",
    "        Xtest[: , i] = (Xtest[: , i] - m)/s\n",
    "    return Xtrain,Ytrain,Xtest,Ytest"
   ]
  },
  {
   "cell_type": "code",
   "execution_count": 3,
   "metadata": {},
   "outputs": [],
   "source": [
    "# Function to transform targets matrix into an indicator matrix\n",
    "def y2indicator(Y,K):\n",
    "    N = len(Y)\n",
    "    I = np.zeros((N,K))\n",
    "    for i in range(N):\n",
    "        I[i][Y[i]] = 1\n",
    "    return I"
   ]
  },
  {
   "cell_type": "code",
   "execution_count": 4,
   "metadata": {},
   "outputs": [],
   "source": [
    "Xtrain,Ytrain,Xtest,Ytest = get_data()"
   ]
  },
  {
   "cell_type": "code",
   "execution_count": 5,
   "metadata": {},
   "outputs": [],
   "source": [
    "N = Xtrain.shape[0] #Number of elemets\n",
    "D = Xtrain.shape[1] #Number of input features\n",
    "M = 8 #Size of hidder layer\n",
    "K = len(set(Ytrain) | set(Ytest)) #Number of classes"
   ]
  },
  {
   "cell_type": "code",
   "execution_count": 6,
   "metadata": {},
   "outputs": [],
   "source": [
    "Ytrain_ind = y2indicator(Ytrain,K)\n",
    "Ytest_ind = y2indicator(Ytest,K)"
   ]
  },
  {
   "cell_type": "code",
   "execution_count": 7,
   "metadata": {},
   "outputs": [],
   "source": [
    "# Randomly initialize weights\n",
    "\n",
    "W1 = np.random.randn(D,M)\n",
    "b1 = np.random.randn(M)\n",
    "W2 = np.random.randn(M,K)\n",
    "b2 = np.random.randn(K)\n",
    "\n"
   ]
  },
  {
   "cell_type": "code",
   "execution_count": 8,
   "metadata": {},
   "outputs": [],
   "source": [
    "def softmax(A):\n",
    "    expA = np.exp(A)\n",
    "    return expA/np.sum(expA,axis=1, keepdims = True)"
   ]
  },
  {
   "cell_type": "code",
   "execution_count": 9,
   "metadata": {},
   "outputs": [],
   "source": [
    "def sigmoid(Z):\n",
    "    return 1/(1+np.exp(-Z))"
   ]
  },
  {
   "cell_type": "code",
   "execution_count": 10,
   "metadata": {},
   "outputs": [],
   "source": [
    "def forward(X,W1,b1,W2,b2):\n",
    "    Z = sigmoid(X.dot(W1) + b1)\n",
    "    A = Z.dot(W2) + b2\n",
    "    return softmax(A), Z"
   ]
  },
  {
   "cell_type": "code",
   "execution_count": 11,
   "metadata": {},
   "outputs": [],
   "source": [
    "def cost(Yind, P):\n",
    "    tot = Yind * np.log(P)\n",
    "    return tot.sum()"
   ]
  },
  {
   "cell_type": "code",
   "execution_count": 12,
   "metadata": {},
   "outputs": [],
   "source": [
    "def classification_rate(Y,P):\n",
    "    n_correct = 0\n",
    "    n_total = len(P)\n",
    "    for i in range(len(Y)):\n",
    "        if np.argmax(Y[i]) == np.argmax(P[i]):\n",
    "            n_correct += 1\n",
    "    return n_correct / n_total"
   ]
  },
  {
   "cell_type": "code",
   "execution_count": 13,
   "metadata": {},
   "outputs": [
    {
     "name": "stdout",
     "output_type": "stream",
     "text": [
      "Cost: -760.0626299790554 ---- Accuracy: 0.1475\n",
      "Cost: -243.27021656304157 ---- Accuracy: 0.775\n",
      "Cost: -193.77843704457985 ---- Accuracy: 0.78\n",
      "Cost: -148.1161819748802 ---- Accuracy: 0.8525\n",
      "Cost: -127.9413524934361 ---- Accuracy: 0.8875\n",
      "Cost: -115.04410911143289 ---- Accuracy: 0.905\n",
      "Cost: -105.23786850351654 ---- Accuracy: 0.9125\n",
      "Cost: -97.46641037786927 ---- Accuracy: 0.9225\n",
      "Cost: -91.09428622250834 ---- Accuracy: 0.935\n",
      "Cost: -85.6539584981182 ---- Accuracy: 0.94\n",
      "Cost: -80.81021815995899 ---- Accuracy: 0.9425\n",
      "Cost: -76.34540994046526 ---- Accuracy: 0.945\n",
      "Cost: -72.16446995038211 ---- Accuracy: 0.9475\n",
      "Cost: -68.2800979192535 ---- Accuracy: 0.945\n",
      "Cost: -64.73345127431769 ---- Accuracy: 0.945\n",
      "Cost: -61.520593646693754 ---- Accuracy: 0.95\n",
      "Cost: -58.60082355904303 ---- Accuracy: 0.95\n",
      "Cost: -55.932325944060395 ---- Accuracy: 0.95\n",
      "Cost: -53.48458442676996 ---- Accuracy: 0.9525\n",
      "Cost: -51.23604697993359 ---- Accuracy: 0.955\n",
      "Cost: -49.1697853608973 ---- Accuracy: 0.9575\n",
      "Cost: -47.27056008819305 ---- Accuracy: 0.965\n",
      "Cost: -45.523500870028656 ---- Accuracy: 0.9725\n",
      "Cost: -43.91398978194111 ---- Accuracy: 0.975\n",
      "Cost: -42.428132998338995 ---- Accuracy: 0.975\n",
      "Cost: -41.05327030810549 ---- Accuracy: 0.98\n",
      "Cost: -39.77823574965779 ---- Accuracy: 0.98\n",
      "Cost: -38.59334127418998 ---- Accuracy: 0.98\n",
      "Cost: -37.490187850419424 ---- Accuracy: 0.98\n",
      "Cost: -36.461423756368234 ---- Accuracy: 0.98\n",
      "Cost: -35.500528154696525 ---- Accuracy: 0.98\n",
      "Cost: -34.60164986423963 ---- Accuracy: 0.98\n",
      "Cost: -33.75949970274513 ---- Accuracy: 0.98\n",
      "Cost: -32.96928197558285 ---- Accuracy: 0.98\n",
      "Cost: -32.22664967417016 ---- Accuracy: 0.98\n",
      "Cost: -31.527671570425106 ---- Accuracy: 0.98\n",
      "Cost: -30.86880357611627 ---- Accuracy: 0.98\n",
      "Cost: -30.246860087242172 ---- Accuracy: 0.98\n",
      "Cost: -29.65898343920269 ---- Accuracy: 0.98\n",
      "Cost: -29.102611253177237 ---- Accuracy: 0.98\n",
      "Cost: -28.57544251286914 ---- Accuracy: 0.98\n",
      "Cost: -28.075403765666923 ---- Accuracy: 0.98\n",
      "Cost: -27.600616974084875 ---- Accuracy: 0.98\n",
      "Cost: -27.149370351316335 ---- Accuracy: 0.98\n",
      "Cost: -26.7200931159824 ---- Accuracy: 0.98\n",
      "Cost: -26.311334615156994 ---- Accuracy: 0.98\n",
      "Cost: -25.92174779553788 ---- Accuracy: 0.98\n",
      "Cost: -25.550076625358777 ---- Accuracy: 0.98\n",
      "Cost: -25.195146824199618 ---- Accuracy: 0.98\n",
      "Cost: -24.855859150249238 ---- Accuracy: 0.98\n",
      "Cost: -24.5311845046334 ---- Accuracy: 0.98\n",
      "Cost: -24.220160205060495 ---- Accuracy: 0.98\n",
      "Cost: -23.92188691765771 ---- Accuracy: 0.98\n",
      "Cost: -23.635525883036724 ---- Accuracy: 0.98\n",
      "Cost: -23.36029620674576 ---- Accuracy: 0.98\n",
      "Cost: -23.09547209243107 ---- Accuracy: 0.98\n",
      "Cost: -22.84037997428495 ---- Accuracy: 0.98\n",
      "Cost: -22.59439555578427 ---- Accuracy: 0.98\n",
      "Cost: -22.356940789562557 ---- Accuracy: 0.98\n",
      "Cost: -22.12748084468115 ---- Accuracy: 0.98\n",
      "Cost: -21.905521108275508 ---- Accuracy: 0.98\n",
      "Cost: -21.690604263133082 ---- Accuracy: 0.98\n",
      "Cost: -21.482307474512748 ---- Accuracy: 0.98\n",
      "Cost: -21.280239710598764 ---- Accuracy: 0.98\n",
      "Cost: -21.084039212650566 ---- Accuracy: 0.98\n",
      "Cost: -20.893371123785798 ---- Accuracy: 0.98\n",
      "Cost: -20.707925279623815 ---- Accuracy: 0.98\n",
      "Cost: -20.52741415968869 ---- Accuracy: 0.9825\n",
      "Cost: -20.351570995366796 ---- Accuracy: 0.9825\n",
      "Cost: -20.180148028128315 ---- Accuracy: 0.9825\n",
      "Cost: -20.01291491044529 ---- Accuracy: 0.985\n",
      "Cost: -19.84965724117799 ---- Accuracy: 0.985\n",
      "Cost: -19.690175226993542 ---- Accuracy: 0.985\n",
      "Cost: -19.534282461489614 ---- Accuracy: 0.985\n",
      "Cost: -19.381804814015847 ---- Accuracy: 0.985\n",
      "Cost: -19.232579420631957 ---- Accuracy: 0.985\n",
      "Cost: -19.086453770149102 ---- Accuracy: 0.985\n",
      "Cost: -18.943284878722668 ---- Accuracy: 0.985\n",
      "Cost: -18.802938546960753 ---- Accuracy: 0.985\n",
      "Cost: -18.665288693957685 ---- Accuracy: 0.985\n",
      "Cost: -18.53021676303407 ---- Accuracy: 0.985\n",
      "Cost: -18.39761119425173 ---- Accuracy: 0.985\n",
      "Cost: -18.267366958964665 ---- Accuracy: 0.985\n",
      "Cost: -18.13938515176198 ---- Accuracy: 0.985\n",
      "Cost: -18.013572635159953 ---- Accuracy: 0.9875\n",
      "Cost: -17.889841732312153 ---- Accuracy: 0.9875\n",
      "Cost: -17.768109962843422 ---- Accuracy: 0.9875\n",
      "Cost: -17.648299816691715 ---- Accuracy: 0.9875\n",
      "Cost: -17.530338560584404 ---- Accuracy: 0.9875\n",
      "Cost: -17.414158071508496 ---- Accuracy: 0.9875\n",
      "Cost: -17.299694691290057 ---- Accuracy: 0.9875\n",
      "Cost: -17.18688909620839 ---- Accuracy: 0.9875\n",
      "Cost: -17.0756861754718 ---- Accuracy: 0.9875\n",
      "Cost: -16.966034912407785 ---- Accuracy: 0.9875\n",
      "Cost: -16.857888262402295 ---- Accuracy: 0.9875\n",
      "Cost: -16.75120302198831 ---- Accuracy: 0.9875\n",
      "Cost: -16.645939684050937 ---- Accuracy: 0.9875\n",
      "Cost: -16.542062274894107 ---- Accuracy: 0.9875\n",
      "Cost: -16.4395381698993 ---- Accuracy: 0.9875\n",
      "Cost: -16.338337885681334 ---- Accuracy: 0.9875\n"
     ]
    }
   ],
   "source": [
    "learning_rate = 10e-3\n",
    "costs = []\n",
    "\n",
    "for epoch in range(1000):\n",
    "    Y_hat , Z = forward(Xtrain,W1,b1,W2,b2)\n",
    "\n",
    "    #Calculate the derivatives of the Log-Likelihood:\n",
    "    grad_W1 = Xtrain.T.dot(((Ytrain_ind - Y_hat).dot(W2.T)* Z *(1 - Z)))\n",
    "    grad_b1 = np.sum(((Ytrain_ind - Y_hat).dot(W2.T) * Z * (1 - Z)),axis = 0)\n",
    "    grad_W2 = Z.T.dot(Ytrain_ind - Y_hat)\n",
    "    grad_b2 = np.sum(Ytrain_ind - Y_hat, axis = 0)\n",
    "\n",
    "    #Update Variables\n",
    "    W1 += learning_rate * grad_W1\n",
    "    b1 += learning_rate * grad_b1\n",
    "    W2 += learning_rate * grad_W2\n",
    "    b2 += learning_rate * grad_b2\n",
    "\n",
    "    if epoch % 10 == 0:\n",
    "        costs.append(cost(Ytrain_ind,Y_hat))\n",
    "        print(f\"Cost: {cost(Ytrain_ind,Y_hat)} ---- Accuracy: {classification_rate(Ytrain_ind,Y_hat)}\")"
   ]
  },
  {
   "cell_type": "code",
   "execution_count": 14,
   "metadata": {},
   "outputs": [
    {
     "data": {
      "text/plain": [
       "0.95"
      ]
     },
     "execution_count": 14,
     "metadata": {},
     "output_type": "execute_result"
    }
   ],
   "source": [
    "#Classification rate on test data (Unseen Data)\n",
    "\n",
    "classification_rate(Ytest_ind,forward(Xtest,W1,b1,W2,b2)[0])"
   ]
  },
  {
   "cell_type": "code",
   "execution_count": 15,
   "metadata": {},
   "outputs": [
    {
     "data": {
      "text/plain": [
       "[<matplotlib.lines.Line2D at 0x1b87e2689d0>]"
      ]
     },
     "execution_count": 15,
     "metadata": {},
     "output_type": "execute_result"
    },
    {
     "data": {
      "image/png": "[encoded data removed]",
      "text/plain": [
       "<Figure size 432x288 with 1 Axes>"
      ]
     },
     "metadata": {
      "needs_background": "light"
     },
     "output_type": "display_data"
    }
   ],
   "source": [
    "#Plotting Cost as function of epochs\n",
    "\n",
    "plt.plot(costs)"
   ]
  }
 ],
 "metadata": {
  "kernelspec": {
   "display_name": "Python 3",
   "language": "python",
   "name": "python3"
  },
  "language_info": {
   "codemirror_mode": {
    "name": "ipython",
    "version": 3
   },
   "file_extension": ".py",
   "mimetype": "text/x-python",
   "name": "python",
   "nbconvert_exporter": "python",
   "pygments_lexer": "ipython3",
   "version": "3.10.2"
  },
  "orig_nbformat": 4,
  "vscode": {
   "interpreter": {
    "hash": "369f2c481f4da34e4445cda3fffd2e751bd1c4d706f27375911949ba6bb62e1c"
   }
  }
 },
 "nbformat": 4,
 "nbformat_minor": 2
}
